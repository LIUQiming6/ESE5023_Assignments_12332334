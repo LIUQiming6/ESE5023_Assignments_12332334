{
 "cells": [
  {
   "cell_type": "markdown",
   "id": "ed55ac33",
   "metadata": {},
   "source": [
    "Assignment 1 (due on 10/25)\n",
    "\n",
    "学生：刘骐鸣 (12332334)\n",
    "\n",
    "批改人：Haotian WU\n",
    "\n",
    "得分：96/100"
   ]
  },
  {
   "cell_type": "markdown",
   "id": "539cc65f",
   "metadata": {},
   "source": [
    "=========================================\n",
    "## PS1_1 Flowchart"
   ]
  },
  {
   "cell_type": "code",
   "execution_count": 2,
   "id": "55802266",
   "metadata": {},
   "outputs": [
    {
     "name": "stdout",
     "output_type": "stream",
     "text": [
      "a = 2248\n",
      "b = 6412\n",
      "c = 6524\n",
      "6524 6412 2248\n"
     ]
    }
   ],
   "source": [
    "import random\n",
    "def print_values():\n",
    "    a=random.randint(0,10000)\n",
    "    b=random.randint(0,10000)\n",
    "    c=random.randint(0,10000)\n",
    "    print('a =',a)  #助教添加\n",
    "    print('b =',b)  #助教添加\n",
    "    print('c =',c)  #助教添加\n",
    "    if a>b:\n",
    "        if b>c:\n",
    "            print(a,b,c)\n",
    "        else:\n",
    "            if a>c:\n",
    "                print(a,c,b)\n",
    "            else:\n",
    "                print(c,a,b)\n",
    "    else:\n",
    "        if b>c:\n",
    "            if a>c:\n",
    "                print(b,a,c)\n",
    "            else:\n",
    "                print(b,c,a)\n",
    "        else:\n",
    "            print(c,b,a)\n",
    "print_values()"
   ]
  },
  {
   "cell_type": "markdown",
   "id": "03900408",
   "metadata": {},
   "source": [
    "### PS1 _1\n",
    "### 根据题干中的要求，函数print_values(a,b,c) 应有输入参数a,b,c。\n",
    "### 代码满足基本功能，可以正常运行。\n",
    "### 得分：9/10\n",
    "### 助教修改的代码如下："
   ]
  },
  {
   "cell_type": "code",
   "execution_count": 4,
   "id": "97de4ca1",
   "metadata": {},
   "outputs": [
    {
     "name": "stdout",
     "output_type": "stream",
     "text": [
      "a = 4137\n",
      "b = 6321\n",
      "c = 7353\n",
      "7353 6321 4137\n"
     ]
    }
   ],
   "source": [
    "import random\n",
    "a=random.randint(0,10000)\n",
    "b=random.randint(0,10000)\n",
    "c=random.randint(0,10000)\n",
    "print('a =',a)  #助教添加\n",
    "print('b =',b)  #助教添加\n",
    "print('c =',c)  #助教添加\n",
    "def print_values(a,b,c):\n",
    "    if a>b:\n",
    "        if b>c:\n",
    "            print(a,b,c)\n",
    "        else:\n",
    "            if a>c:\n",
    "                print(a,c,b)\n",
    "            else:\n",
    "                print(c,a,b)\n",
    "    else:\n",
    "        if b>c:\n",
    "            if a>c:\n",
    "                print(b,a,c)\n",
    "            else:\n",
    "                print(b,c,a)\n",
    "        else:\n",
    "            print(c,b,a)\n",
    "    return\n",
    "print_values(a,b,c)"
   ]
  },
  {
   "cell_type": "markdown",
   "id": "ad5b90ad",
   "metadata": {},
   "source": [
    "=========================================\n",
    "## PS1_2 Matrix multiplication"
   ]
  },
  {
   "cell_type": "code",
   "execution_count": 154,
   "id": "d75c1809",
   "metadata": {},
   "outputs": [
    {
     "name": "stdout",
     "output_type": "stream",
     "text": [
      "[[22 40 37  3 40 17 15 29 24 30]\n",
      " [45 49 25 40 22  4 27 17 31  4]\n",
      " [43 27 30 40 15  1 33  6 16 20]\n",
      " [ 4 40  4 28 14 43  4  4 31 40]\n",
      " [16 24 15 15 50 45 38 43 42 30]]\n",
      "[[ 5 10 39 49 27]\n",
      " [10 14 24 46 16]\n",
      " [16 37 39 45 40]\n",
      " [31  2 11 44 30]\n",
      " [10 10 16 12 46]\n",
      " [ 1 22 44 32 21]\n",
      " [19 10 45 24 49]\n",
      " [ 2 11  8  5 49]\n",
      " [33  8  5 20 32]\n",
      " [30 42 26 27 13]]\n",
      "请输入方阵的行或列2\n",
      "输入第1行的数字，并用空格隔开3 1\n",
      "输入第2行的数字，并用空格隔开2 5\n",
      "请输入方阵的行或列2\n",
      "输入第1行的数字，并用空格隔开5 6\n",
      "输入第2行的数字，并用空格隔开7 5\n",
      "2 2\n",
      "2 2\n",
      "两矩阵相乘得出： [[22. 22.]\n",
      " [37. 37.]]\n",
      "两矩阵相加得出： [[ 8.  7.]\n",
      " [ 9. 10.]]\n"
     ]
    }
   ],
   "source": [
    "#### 第一问\n",
    "import numpy as np\n",
    "import random\n",
    "rows=5\n",
    "cols=10\n",
    "M1=np.random.randint(1,51,size=(rows,cols))\n",
    "print(M1)\n",
    "rows1=10\n",
    "cols1=5\n",
    "M2=np.random.randint(1,51,size=(rows1,cols1))\n",
    "print(M2)\n",
    "\n",
    "#运用numpy库来执行矩阵乘法\n",
    "#c=np.dot(M1,M2)\n",
    "\n",
    "#第二问\n",
    "#用for语句来执行\n",
    "def Matrix_multip():\n",
    "    n1 = int(input('请输入方阵的行或列'))\n",
    "    M3 = []\n",
    "    for i in range(n1):\n",
    "#         M3.append(list(map(int, input('输入每行').rstrip().split())))\n",
    "        M3.append(list(map(int, input('输入第'+str(i+1)+'行的数字，并用空格隔开').rstrip().split())))\n",
    "    n1 = int(input('请输入方阵的行或列'))\n",
    "    M4 = []\n",
    "    for i in range(n1):\n",
    "#         M4.append(list(map(int, input('输入每行').rstrip().split())))#rstrip去除右侧空格指定字符串,split（）遇到空格了分割\n",
    "        M4.append(list(map(int, input('输入第'+str(i+1)+'行的数字，并用空格隔开').rstrip().split())))#rstrip去除右侧空格指定字符串,split（）遇到空格了分割\n",
    "# 获取矩阵A的行数和列数\n",
    "    rows_A = len(M3)\n",
    "    cols_A = len(M3[0])\n",
    "    print(rows_A,cols_A)  # 助教添加，方便检查\n",
    "# 获取矩阵B的行数和列数\n",
    "    rows_B = len(M4)\n",
    "    cols_B = len(M4[0])\n",
    "    print(rows_B,cols_B)  # 助教添加，方便检查\n",
    "    if(rows_A!=cols_A):\n",
    "        print(\"rows_A =\",rows_A)\n",
    "        print(\"cols_A =\",cols_A)\n",
    "        print(\"请检查A方阵尺寸\")\n",
    "    if(rows_B!=cols_B):\n",
    "        print(\"rows_B =\",rows_B)\n",
    "        print(\"cols_B =\",cols_B)\n",
    "        print(\"请检查B方阵尺寸\")\n",
    "#创建初始矩阵，两种方式\n",
    "#M3a=[[0 for _ in range(cols_A)] for _ in range(rows_A)]\n",
    "#M3b=[[0 for _ in range(cols_A)] for _ in range(rows_A)]\n",
    "    M3a=np.zeros((rows_A,cols_B))\n",
    "    M3b=np.zeros((rows_B,cols_B))\n",
    "    for i in range(rows_A): # 矩阵的行\n",
    "        for j in range(cols_B):   # 矩阵的列\n",
    "            M3b[i][j] = M3b[i][j] + M3[i][j] + M4[i][j]\n",
    "            for k in range(rows_A):\n",
    "                M3a[i][j]=M3a[i][j]+M3[i][k]*M4[k][i]\n",
    "\n",
    "    print('两矩阵相乘得出：',M3a)\n",
    "    print('两矩阵相加得出：',M3b)\n",
    "Matrix_multip()\n"
   ]
  },
  {
   "cell_type": "markdown",
   "id": "6e5def56",
   "metadata": {},
   "source": [
    "### PS1_2 \n",
    "### 第一问代码运行正常，可以输出正确结果。\n",
    "### 第二问利用三重循环计算矩阵乘法。逻辑正确。需要将第一问中的M1和M2进行矩阵乘法。不需要用户手动输入矩阵。\n",
    "### 助教在原代码中加了部分提示信息，方便用户使用。\n",
    "### 得分：14/15"
   ]
  },
  {
   "cell_type": "markdown",
   "id": "6c3eae9a",
   "metadata": {},
   "source": [
    "=========================================\n",
    "## PS1_3 Pascal triangle"
   ]
  },
  {
   "cell_type": "code",
   "execution_count": 106,
   "id": "c7dc9a39",
   "metadata": {},
   "outputs": [
    {
     "name": "stdout",
     "output_type": "stream",
     "text": [
      "请输入显示第几行5\n",
      "1 4 6 4 1 \n"
     ]
    }
   ],
   "source": [
    "K= int(input('请输入显示第几行'))\n",
    "a = []\n",
    "for i in range(1, K+1):\n",
    "    a.append(list(1 for j in range(1, i + 1)))\n",
    "    if i > 2:\n",
    "        for n in range(1, i - 1):\n",
    "            a[i - 1][n] = a[i - 2][n - 1] + a[i - 2][n]\n",
    "for k in range(0, i):\n",
    "    print(a[i - 1][k], end=' ')\n",
    "print(\"\")"
   ]
  },
  {
   "cell_type": "markdown",
   "id": "83653777",
   "metadata": {},
   "source": [
    "### PS1_3\n",
    "### 代码功能满足要求。输出结果正确。\n",
    "### 得分 20/20"
   ]
  },
  {
   "cell_type": "markdown",
   "id": "56a4b6f3",
   "metadata": {},
   "source": [
    "=========================================\n",
    "## PS1_4 Add or double"
   ]
  },
  {
   "cell_type": "code",
   "execution_count": 107,
   "id": "301484f3",
   "metadata": {},
   "outputs": [
    {
     "name": "stdout",
     "output_type": "stream",
     "text": [
      "请输入一个整数 n: 5\n",
      "从1到5所需的最小步数是:3\n"
     ]
    }
   ],
   "source": [
    "def Least_moves(n):\n",
    "    # 创建一个列表dp，用于存储从1到n的每个数字所需的最小步数\n",
    "    a=[0]*(n + 1)\n",
    "    # 从2开始遍历到n\n",
    "    for i in range(2, n + 1):\n",
    "        # 初始化当前数字i所需的步数为前一步的步数加1\n",
    "        a[i] = a[i - 1] + 1\n",
    "        # 如果当前数字是偶数，尝试用除2的操作来减小步数,和前一步的步数比较求最小\n",
    "        if i % 2 == 0:\n",
    "            a[i] = min(a[i],a[i//2]+1)\n",
    "    # 返回n所需的最小步数\n",
    "    return a\n",
    "# 输入n\n",
    "n=int(input(\"请输入一个整数 n: \"))\n",
    "b=Least_moves(n)\n",
    "print(\"从1到\"+str(n)+\"所需的最小步数是:\"+str(b[n]))"
   ]
  },
  {
   "cell_type": "markdown",
   "id": "ba680eb7",
   "metadata": {},
   "source": [
    "### PS1_4\n",
    "### 代码功能满足要求。输出结果正确。\n",
    "### 得分 20/20"
   ]
  },
  {
   "cell_type": "markdown",
   "id": "af6bdc8f",
   "metadata": {},
   "source": [
    "=========================================\n",
    "## PS1_5 Dynamic programming"
   ]
  },
  {
   "cell_type": "code",
   "execution_count": 109,
   "id": "43dc186f",
   "metadata": {},
   "outputs": [
    {
     "name": "stdout",
     "output_type": "stream",
     "text": [
      "[0, 1, 2, 3, 4, 5, 6, 7, 8, 9, 10, 11, 12, 13, 14, 15, 16, 17, 18, 19, 20, 21, 22, 23, 24, 25, 26, 27, 28, 29, 30, 31, 32, 33, 34, 35, 36, 37, 38, 39, 40, 41, 42, 43, 44, 45, 46, 47, 48, 49, 50, 51, 52, 53, 54, 55, 56, 57, 58, 59, 60, 61, 62, 63, 64, 65, 66, 67, 68, 69, 70, 71, 72, 73, 74, 75, 76, 77, 78, 79, 80, 81, 82, 83, 84, 85, 86, 87, 88, 89, 90, 91, 92, 93, 94, 95, 96, 97, 98, 99, 100]\n",
      "[11, 26, 11, 18, 8, 21, 12, 17, 8, 22, 12, 21, 11, 16, 15, 20, 8, 17, 11, 20, 15, 16, 11, 23, 18, 13, 14, 21, 15, 19, 17, 14, 19, 19, 7, 14, 19, 19, 17, 18, 16, 17, 18, 10, 15, 26, 18, 15, 16, 12, 17, 19, 9, 17, 21, 16, 13, 14, 16, 17, 17, 11, 13, 22, 14, 13, 15, 15, 15, 17, 7, 14, 17, 15, 12, 13, 14, 14, 14, 10, 9, 19, 12, 13, 13, 12, 11, 12, 6, 12, 14, 16, 13, 11, 11, 10, 11, 7, 9, 17, 11]\n"
     ]
    },
    {
     "data": {
      "image/png": "[encoded data removed]",
      "text/plain": [
       "<Figure size 640x480 with 1 Axes>"
      ]
     },
     "metadata": {},
     "output_type": "display_data"
    }
   ],
   "source": [
    "import random\n",
    "from itertools import product\n",
    "\n",
    "import matplotlib.pyplot as plt\n",
    "\n",
    "digits = \"123456789\"\n",
    "\n",
    "def evaluate_expression(expression):\n",
    "    try:\n",
    "        result = eval(expression)\n",
    "        return result\n",
    "    except:\n",
    "        return None\n",
    "valid_expressions = []\n",
    "C=[]#定义空list\n",
    "D=[]#定义空list\n",
    "Total_solutions=[]#定义空list\n",
    "for target in range(0,101):\n",
    "# 生成所有可能的运算符排列组合\n",
    "   for p in product(\"+- \", repeat=len(digits) - 1):  #将所有运算符排列的可能性赋给p\n",
    "\n",
    "       expression=''.join(d+op for d, op in zip(digits, p)) + digits[-1]\n",
    "    #zip(digits, p)，将每个数字与p中每个运算符配对，再将配对后的序列生成一个字符串输出\n",
    "    # 移除空格\n",
    "       expression = expression.replace(\" \", \"\")\n",
    "       result = evaluate_expression(expression)\n",
    "       if result is not None and result == target:\n",
    "           valid_expressions.append(expression)\n",
    "   #print(valid_expressions)  # 输出所有得出target的可能性\n",
    "   b=int(target)#定义索引\n",
    "   C.append(b)\n",
    "   Total_solutions=int(len(valid_expressions))\n",
    "   D.append(Total_solutions)\n",
    "   valid_expressions=[]#将结果list赋为空，进行第二次循环\n",
    "print(C)#创建画图时候所需要的x的内容\n",
    "print(D)#创建画图时候所需要的y的内容\n",
    "plt.plot(C,D)\n",
    "plt.show()\n",
    "   #print(str(target)+':'+str(len(valid_expressions)))\n",
    "\n",
    "\n",
    "\n",
    "\n"
   ]
  },
  {
   "cell_type": "markdown",
   "id": "78507fa6",
   "metadata": {},
   "source": [
    "### PS1_5\n",
    "### 函数功能满足要求。输出结果正确。\n",
    "### 没有计算最大值和最小值。助教提供的参考代码如下：\n",
    "### 得分 33/35"
   ]
  },
  {
   "cell_type": "code",
   "execution_count": 130,
   "id": "3389585b",
   "metadata": {},
   "outputs": [
    {
     "name": "stdout",
     "output_type": "stream",
     "text": [
      "Max value of Total_solutions is 26\n",
      "Number is [ 1 45]\n",
      "Min value of Total_solutions is 6\n",
      "Number is [88]\n"
     ]
    }
   ],
   "source": [
    "print(\"Max value of Total_solutions is\",np.max(D))\n",
    "idx_max = np.where(D==np.max(D))\n",
    "print(\"Number is\",np.array(C)[idx_max])\n",
    "\n",
    "print(\"Min value of Total_solutions is\",np.min(D))\n",
    "idx_min = np.where(D==np.min(D))\n",
    "print(\"Number is\",np.array(C)[idx_min])"
   ]
  },
  {
   "cell_type": "code",
   "execution_count": null,
   "id": "6bfb8d71",
   "metadata": {},
   "outputs": [],
   "source": []
  }
 ],
 "metadata": {
  "kernelspec": {
   "display_name": "Python 3 (ipykernel)",
   "language": "python",
   "name": "python3"
  },
  "language_info": {
   "codemirror_mode": {
    "name": "ipython",
    "version": 3
   },
   "file_extension": ".py",
   "mimetype": "text/x-python",
   "name": "python",
   "nbconvert_exporter": "python",
   "pygments_lexer": "ipython3",
   "version": "3.11.4"
  }
 },
 "nbformat": 4,
 "nbformat_minor": 5
}
