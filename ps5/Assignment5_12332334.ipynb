{
 "cells": [
  {
   "cell_type": "markdown",
   "id": "72244338",
   "metadata": {},
   "source": [
    "Assignment 5 (due on 12/20)\n",
    "\n",
    "Student：刘骐鸣（12332334），Gtihub：LIUQiming6\n",
    "\n",
    "批改人：赵淑慧\n",
    "\n",
    "得分：38/40\n",
    "\n",
    "Bonus：0/15"
   ]
  },
  {
   "cell_type": "markdown",
   "id": "744bc8d0",
   "metadata": {},
   "source": [
    "1.1 15/15\n",
    "\n",
    "1.2 20/20\n",
    "\n",
    "1.3 3/5 N1和C1从start_index开始的数据时1987年的，并不是1988年，数据和对应时间不匹配；此外，画出来的without_buffer并不是线性拟合值，注意plt.plot内仍然写的N1_subset"
   ]
  }
 ],
 "metadata": {
  "kernelspec": {
   "display_name": "Python 3",
   "language": "python",
   "name": "python3"
  },
  "language_info": {
   "codemirror_mode": {
    "name": "ipython",
    "version": 3
   },
   "file_extension": ".py",
   "mimetype": "text/x-python",
   "name": "python",
   "nbconvert_exporter": "python",
   "pygments_lexer": "ipython3",
   "version": "3.8.8"
  }
 },
 "nbformat": 4,
 "nbformat_minor": 5
}
